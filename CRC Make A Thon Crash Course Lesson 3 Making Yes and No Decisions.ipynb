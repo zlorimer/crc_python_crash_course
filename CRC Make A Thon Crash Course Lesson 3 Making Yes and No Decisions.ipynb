{
 "cells": [
  {
   "cell_type": "markdown",
   "metadata": {},
   "source": [
    "# Making Yes and No Decisions in Python"
   ]
  },
  {
   "cell_type": "markdown",
   "metadata": {},
   "source": [
    "Lets print out the type of True in python"
   ]
  },
  {
   "cell_type": "code",
   "execution_count": 1,
   "metadata": {},
   "outputs": [
    {
     "name": "stdout",
     "output_type": "stream",
     "text": [
      "type of True and False: <class 'bool'>\n"
     ]
    }
   ],
   "source": [
    "print('type of True and False: {}'.format(type(True)))"
   ]
  },
  {
   "cell_type": "markdown",
   "metadata": {},
   "source": [
    "True/False 1/0 these are called boolean or 'bool' values in programming"
   ]
  },
  {
   "cell_type": "markdown",
   "metadata": {},
   "source": [
    "Python allows for several conditional operators that return True or False"
   ]
  },
  {
   "cell_type": "code",
   "execution_count": 2,
   "metadata": {},
   "outputs": [
    {
     "data": {
      "text/plain": [
       "False"
      ]
     },
     "execution_count": 2,
     "metadata": {},
     "output_type": "execute_result"
    }
   ],
   "source": [
    "# Equality\n",
    "1 == 0"
   ]
  },
  {
   "cell_type": "code",
   "execution_count": 3,
   "metadata": {},
   "outputs": [
    {
     "data": {
      "text/plain": [
       "True"
      ]
     },
     "execution_count": 3,
     "metadata": {},
     "output_type": "execute_result"
    }
   ],
   "source": [
    "# Not Equal\n",
    "1 != 0"
   ]
  },
  {
   "cell_type": "code",
   "execution_count": 4,
   "metadata": {},
   "outputs": [
    {
     "name": "stdout",
     "output_type": "stream",
     "text": [
      "True\n",
      "False\n",
      "False\n"
     ]
    }
   ],
   "source": [
    "# Greater than and less than\n",
    "print(1 > 0)\n",
    "print(1 < 0)\n",
    "print(1 > 1)"
   ]
  },
  {
   "cell_type": "code",
   "execution_count": 5,
   "metadata": {},
   "outputs": [
    {
     "name": "stdout",
     "output_type": "stream",
     "text": [
      "True\n",
      "False\n",
      "True\n"
     ]
    }
   ],
   "source": [
    "# Can also check greater or equal\n",
    "print(1 >= 0)\n",
    "print(1 <= 0)\n",
    "print(1 >= 0)"
   ]
  },
  {
   "cell_type": "markdown",
   "metadata": {},
   "source": [
    "There are also keyword conditionals and, or, not"
   ]
  },
  {
   "cell_type": "code",
   "execution_count": 6,
   "metadata": {},
   "outputs": [],
   "source": [
    "CRC_is_good = True\n",
    "having_no_money_is_good = False\n",
    "amount_of_money = 1000000"
   ]
  },
  {
   "cell_type": "code",
   "execution_count": 7,
   "metadata": {},
   "outputs": [
    {
     "name": "stdout",
     "output_type": "stream",
     "text": [
      "CRC and having no money is good: False\n",
      "CRC and having money is good: True\n",
      "CRC is good or having no money is good: True\n",
      "CRC has more than 500,000 dollars and less than 1,500,000: True\n"
     ]
    }
   ],
   "source": [
    "print('CRC and having no money is good: {}'.format(CRC_is_good and having_no_money_is_good ))\n",
    "print('CRC and having money is good: {}'.format(CRC_is_good and not having_no_money_is_good))\n",
    "print('CRC is good or having no money is good: {}'.format(CRC_is_good or having_no_money_is_good))\n",
    "print('CRC has more than 500,000 dollars and less than 1,500,000: {}'.format(amount_of_money > 500000 and amount_of_money < 1500000))"
   ]
  },
  {
   "cell_type": "markdown",
   "metadata": {},
   "source": [
    "### You can control your program using conditionals if and if-else"
   ]
  },
  {
   "cell_type": "code",
   "execution_count": 8,
   "metadata": {},
   "outputs": [
    {
     "name": "stdout",
     "output_type": "stream",
     "text": [
      "TIME TO THROW A PARTY\n"
     ]
    }
   ],
   "source": [
    "if CRC_is_good and amount_of_money > 500000:\n",
    "    print('time to throw a party'.upper())\n"
   ]
  },
  {
   "cell_type": "markdown",
   "metadata": {},
   "source": [
    "If - else statement"
   ]
  },
  {
   "cell_type": "code",
   "execution_count": 9,
   "metadata": {},
   "outputs": [
    {
     "name": "stdout",
     "output_type": "stream",
     "text": [
      "1\n"
     ]
    }
   ],
   "source": [
    "good_karma = 0\n",
    "if CRC_is_good:\n",
    "    good_karma += 1\n",
    "else:\n",
    "    good_karma -= 1\n",
    "print(good_karma)"
   ]
  },
  {
   "cell_type": "markdown",
   "metadata": {},
   "source": [
    "If elif else statement"
   ]
  },
  {
   "cell_type": "code",
   "execution_count": 10,
   "metadata": {},
   "outputs": [
    {
     "name": "stdout",
     "output_type": "stream",
     "text": [
      "THROW AWESOME PARTY\n"
     ]
    }
   ],
   "source": [
    "if CRC_is_good and amount_of_money > 2000000:\n",
    "    print('throw party of the century'.upper())\n",
    "elif CRC_is_good and amount_of_money >= 1000000:\n",
    "    print('throw awesome party'.upper())\n",
    "elif CRC_is_good and amount_of_money >= 500000:\n",
    "    print('throw modest party')\n",
    "else:\n",
    "    print('no party... :(')"
   ]
  },
  {
   "cell_type": "markdown",
   "metadata": {},
   "source": [
    "### Exercises"
   ]
  },
  {
   "cell_type": "markdown",
   "metadata": {},
   "source": [
    "Write Your name and assign it to variable"
   ]
  },
  {
   "cell_type": "code",
   "execution_count": 65,
   "metadata": {},
   "outputs": [],
   "source": [
    "my_name = 'Zach'"
   ]
  },
  {
   "cell_type": "markdown",
   "metadata": {},
   "source": [
    "Edit the code below check if it is longer than the name below using the len() function"
   ]
  },
  {
   "cell_type": "code",
   "execution_count": 66,
   "metadata": {},
   "outputs": [
    {
     "name": "stdout",
     "output_type": "stream",
     "text": [
      "MY NAME IS LONGER\n"
     ]
    }
   ],
   "source": [
    "name = 'Tim'\n",
    "if len(my_name) > len(name):\n",
    "    print('My name is longer'.upper())\n",
    "elif len(my_name) == len(name):\n",
    "    print('My name is the same length'.upper())\n",
    "else:\n",
    "    print('By the process of elimination my \\nname must be shorter'.lower())"
   ]
  },
  {
   "cell_type": "markdown",
   "metadata": {},
   "source": [
    "Set a variable equal to your favorite number"
   ]
  },
  {
   "cell_type": "code",
   "execution_count": 67,
   "metadata": {},
   "outputs": [],
   "source": [
    "fav_num = 42"
   ]
  },
  {
   "cell_type": "markdown",
   "metadata": {},
   "source": [
    "Check if your favorite number is greater than 100, if yes print out Tim's name otherwise print your name"
   ]
  },
  {
   "cell_type": "code",
   "execution_count": 68,
   "metadata": {},
   "outputs": [
    {
     "name": "stdout",
     "output_type": "stream",
     "text": [
      "Zach\n"
     ]
    }
   ],
   "source": [
    "if fav_num > 100:\n",
    "    print(name)\n",
    "else:\n",
    "    print(my_name)"
   ]
  },
  {
   "cell_type": "markdown",
   "metadata": {},
   "source": [
    "If your name is shorter than Tim's print out a battle cry, if it is longer, check if your number is less than 50. If yes, print out something funny. If no, add 50 to your number and print it"
   ]
  },
  {
   "cell_type": "code",
   "execution_count": 69,
   "metadata": {},
   "outputs": [
    {
     "name": "stdout",
     "output_type": "stream",
     "text": [
      "We are the Knights who say ,\"Ni!\"\n"
     ]
    }
   ],
   "source": [
    "if len(my_name) < len(name):\n",
    "    print('roarrrrrrrrrrrr!'.upper())\n",
    "elif len(my_name) > len(name):\n",
    "    if fav_num < 50:\n",
    "        print('We are the Knights who say ,\"Ni!\"')\n",
    "    else:\n",
    "        print(fav_num + 50)\n",
    "else:\n",
    "    print('It\\'s all a big mess!')"
   ]
  },
  {
   "cell_type": "code",
   "execution_count": null,
   "metadata": {},
   "outputs": [],
   "source": []
  }
 ],
 "metadata": {
  "kernelspec": {
   "display_name": "Python 3",
   "language": "python",
   "name": "python3"
  },
  "language_info": {
   "codemirror_mode": {
    "name": "ipython",
    "version": 3
   },
   "file_extension": ".py",
   "mimetype": "text/x-python",
   "name": "python",
   "nbconvert_exporter": "python",
   "pygments_lexer": "ipython3",
   "version": "3.7.0"
  }
 },
 "nbformat": 4,
 "nbformat_minor": 2
}
