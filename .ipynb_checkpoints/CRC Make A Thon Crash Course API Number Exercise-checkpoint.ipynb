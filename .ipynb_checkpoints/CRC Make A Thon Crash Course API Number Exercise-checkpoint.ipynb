{
 "cells": [
  {
   "cell_type": "markdown",
   "metadata": {},
   "source": [
    "# CRC Make-A-Thon Crash Course - API Number Exercise"
   ]
  },
  {
   "cell_type": "markdown",
   "metadata": {},
   "source": [
    "Lets pick a API_14 number and assign it to a string variable."
   ]
  },
  {
   "cell_type": "code",
   "execution_count": 2,
   "metadata": {},
   "outputs": [
    {
     "name": "stdout",
     "output_type": "stream",
     "text": [
      "04030565740000\n"
     ]
    }
   ],
   "source": [
    "API_14 = '04030565740000'\n",
    "print(API_14)"
   ]
  },
  {
   "cell_type": "markdown",
   "metadata": {},
   "source": [
    "Lets then use API_14 to split the sting and find API_12, API_10, and API_8"
   ]
  },
  {
   "cell_type": "code",
   "execution_count": 3,
   "metadata": {},
   "outputs": [
    {
     "name": "stdout",
     "output_type": "stream",
     "text": [
      "040305657400\n",
      "0403056574\n",
      "03056574\n"
     ]
    }
   ],
   "source": [
    "API_12 = API_14[:12]\n",
    "print(API_12)\n",
    "\n",
    "API_10 = API_14[:10]\n",
    "print(API_10)\n",
    "\n",
    "API_8 = API_14[2:-4]\n",
    "print(API_8)"
   ]
  },
  {
   "cell_type": "markdown",
   "metadata": {},
   "source": [
    "## Exercise 1:\n",
    "## Lets present the results in a few ways"
   ]
  },
  {
   "cell_type": "markdown",
   "metadata": {},
   "source": [
    "### 1. Try presenting  the results in a simple way by inserting the results into strings."
   ]
  },
  {
   "cell_type": "markdown",
   "metadata": {},
   "source": [
    " '\\t' creates a tab seporator within the string."
   ]
  },
  {
   "cell_type": "code",
   "execution_count": 6,
   "metadata": {},
   "outputs": [
    {
     "name": "stdout",
     "output_type": "stream",
     "text": [
      "Name:\t####\n"
     ]
    }
   ],
   "source": [
    "#example\n",
    "value = '####'\n",
    "print('Name:\\t' + value)"
   ]
  },
  {
   "cell_type": "code",
   "execution_count": 7,
   "metadata": {},
   "outputs": [
    {
     "name": "stdout",
     "output_type": "stream",
     "text": [
      "API_14:\t04030565740000\n",
      "API_12:\t040305657400\n",
      "API_10:\t0403056574\n",
      "API_8:\t03056574\n"
     ]
    }
   ],
   "source": [
    "#Answer\n",
    "print('API_14:\\t' + API_14)\n",
    "print('API_12:\\t' + API_12)\n",
    "print('API_10:\\t' + API_10)\n",
    "print('API_8:\\t' + API_8)"
   ]
  },
  {
   "cell_type": "markdown",
   "metadata": {},
   "source": [
    "### 2. Try presenting the results by passing the API strings to one string statement."
   ]
  },
  {
   "cell_type": "markdown",
   "metadata": {},
   "source": [
    " '\\n' creates a new line within the string."
   ]
  },
  {
   "cell_type": "code",
   "execution_count": 5,
   "metadata": {},
   "outputs": [
    {
     "name": "stdout",
     "output_type": "stream",
     "text": [
      "Name1:\t#####\n",
      "Name2:\t#####\n"
     ]
    }
   ],
   "source": [
    "#example\n",
    "str1 = '{}:\\t{}'.format('Name1', value)\n",
    "str2 = '{}:\\t{}'.format('Name2', value)\n",
    "statement = str1 + '\\n' + str2 \n",
    "print(statement)"
   ]
  },
  {
   "cell_type": "code",
   "execution_count": 10,
   "metadata": {},
   "outputs": [
    {
     "name": "stdout",
     "output_type": "stream",
     "text": [
      "API_14:\t04030565740000\n",
      "API_12:\t040305657400\n",
      "API_10:\t0403056574\n",
      "API_8:\t03056574\n"
     ]
    }
   ],
   "source": [
    "#Answer\n",
    "str1 = '{}:\\t{}'.format('API_14', API_14)\n",
    "str2 = '{}:\\t{}'.format('API_12', API_12)\n",
    "str3 = '{}:\\t{}'.format('API_10', API_10)\n",
    "str4 = '{}:\\t{}'.format('API_8', API_8)\n",
    "statement = str1 + '\\n' + str2 + '\\n' + str3 + '\\n' + str4\n",
    "print(statement)"
   ]
  },
  {
   "cell_type": "markdown",
   "metadata": {},
   "source": [
    "### 3. Try presenting the results by iterating over a list of the results."
   ]
  },
  {
   "cell_type": "markdown",
   "metadata": {},
   "source": [
    "First create two lists for our API varible names and values. Then use a for loop to print API_no and API_vlaue iterating over a range from 0 to length of API names."
   ]
  },
  {
   "cell_type": "code",
   "execution_count": 7,
   "metadata": {},
   "outputs": [
    {
     "name": "stdout",
     "output_type": "stream",
     "text": [
      "['Name1', 'Name2']\n",
      "['####', '####']\n"
     ]
    }
   ],
   "source": [
    "#example\n",
    "Names = ['Name1','Name2']\n",
    "print(Names)\n",
    "\n",
    "Values = ['####','####']\n",
    "print(Values)"
   ]
  },
  {
   "cell_type": "code",
   "execution_count": 8,
   "metadata": {},
   "outputs": [
    {
     "name": "stdout",
     "output_type": "stream",
     "text": [
      "Name1:\t####\n",
      "Name2:\t####\n"
     ]
    }
   ],
   "source": [
    "#example\n",
    "r = range(0, len(Names))\n",
    "\n",
    "for i in r:\n",
    "    print('{}:\\t{}'.format(Names[i],Values[i]))"
   ]
  },
  {
   "cell_type": "code",
   "execution_count": 11,
   "metadata": {},
   "outputs": [
    {
     "name": "stdout",
     "output_type": "stream",
     "text": [
      "['API_14', 'API_12', 'API_10', 'API_8']\n",
      "['04030565740000', '040305657400', '0403056574', '03056574']\n"
     ]
    }
   ],
   "source": [
    "#Answer\n",
    "Names = ['API_14', 'API_12', 'API_10', 'API_8']\n",
    "print(Names)\n",
    "\n",
    "Values = [API_14, API_12, API_10, API_8]\n",
    "print(Values)"
   ]
  },
  {
   "cell_type": "code",
   "execution_count": 12,
   "metadata": {},
   "outputs": [
    {
     "name": "stdout",
     "output_type": "stream",
     "text": [
      "API_14:\t04030565740000\n",
      "API_12:\t040305657400\n",
      "API_10:\t0403056574\n",
      "API_8:\t03056574\n"
     ]
    }
   ],
   "source": [
    "#Answer\n",
    "r = range(0, len(Names))\n",
    "\n",
    "for i in r:\n",
    "    print('{}:\\t{}'.format(Names[i],Values[i]))"
   ]
  },
  {
   "cell_type": "markdown",
   "metadata": {},
   "source": [
    "### 4. Try presenting the results by iterating over a dictionary of the results"
   ]
  },
  {
   "cell_type": "markdown",
   "metadata": {},
   "source": [
    "First create a dictionary of our API variables. Then use a for loop to print API variables iterating through the  dict."
   ]
  },
  {
   "cell_type": "code",
   "execution_count": 11,
   "metadata": {},
   "outputs": [
    {
     "name": "stdout",
     "output_type": "stream",
     "text": [
      "{'Name1': '#####', 'Name2': '#####'}\n"
     ]
    }
   ],
   "source": [
    "#example\n",
    "Name_dict = {'Name1':'#####', 'Name2':'#####'}\n",
    "print(Name_dict)"
   ]
  },
  {
   "cell_type": "code",
   "execution_count": 12,
   "metadata": {},
   "outputs": [
    {
     "name": "stdout",
     "output_type": "stream",
     "text": [
      "Name1:\t#####\n",
      "Name2:\t#####\n"
     ]
    }
   ],
   "source": [
    "#example\n",
    "for key, value in Name_dict.items():\n",
    "    print('{}:\\t{}'.format(key,value))"
   ]
  },
  {
   "cell_type": "code",
   "execution_count": 13,
   "metadata": {},
   "outputs": [
    {
     "name": "stdout",
     "output_type": "stream",
     "text": [
      "{'API_14': '04030565740000', 'API_12': '040305657400', 'API_10': '0403056574', 'API_8': '03056574'}\n"
     ]
    }
   ],
   "source": [
    "#Answer\n",
    "Name_dict = {'API_14':API_14, 'API_12':API_12, 'API_10':API_10, 'API_8':API_8}\n",
    "print(Name_dict)"
   ]
  },
  {
   "cell_type": "code",
   "execution_count": 16,
   "metadata": {},
   "outputs": [
    {
     "name": "stdout",
     "output_type": "stream",
     "text": [
      "API_14:\t04030565740000\n",
      "API_12:\t040305657400\n",
      "API_10:\t0403056574\n",
      "API_8:\t03056574\n"
     ]
    }
   ],
   "source": [
    "#Answer\n",
    "r = range(0, len(Name_dict))\n",
    "\n",
    "for key, value in Name_dict.items():\n",
    "    print('{}:\\t{}'.format(key,value))"
   ]
  },
  {
   "cell_type": "markdown",
   "metadata": {},
   "source": [
    "# Exercise 2: \n",
    "# Lets assume our well was redrilled and will need an updated API_14."
   ]
  },
  {
   "cell_type": "markdown",
   "metadata": {},
   "source": [
    "For redrilled wells the API_12 value updates by 1. Therefore 04030565740000 becomes 04030565740100."
   ]
  },
  {
   "cell_type": "markdown",
   "metadata": {},
   "source": [
    "### 1. Try updating the API_14 using a sting replace."
   ]
  },
  {
   "cell_type": "code",
   "execution_count": 15,
   "metadata": {},
   "outputs": [
    {
     "name": "stdout",
     "output_type": "stream",
     "text": [
      "new_Name:\tJamie\n"
     ]
    }
   ],
   "source": [
    "# example\n",
    "Name = 'James'\n",
    "new_Name = Name.replace('es','ie')\n",
    "print('new_Name:\\t' + new_Name)"
   ]
  },
  {
   "cell_type": "code",
   "execution_count": 16,
   "metadata": {},
   "outputs": [],
   "source": [
    "#Answer\n"
   ]
  },
  {
   "cell_type": "markdown",
   "metadata": {},
   "source": [
    "### 2. Try updating the API_14 by finding the API_10 and add the updated last four values."
   ]
  },
  {
   "cell_type": "code",
   "execution_count": 17,
   "metadata": {},
   "outputs": [
    {
     "name": "stdout",
     "output_type": "stream",
     "text": [
      "new_Name:\t01678\n"
     ]
    }
   ],
   "source": [
    "#example\n",
    "Name = '012345'\n",
    "Name = Name[:2]\n",
    "new_Name = Name + '678'\n",
    "\n",
    "print('new_Name:\\t' + new_Name)"
   ]
  },
  {
   "cell_type": "code",
   "execution_count": 18,
   "metadata": {},
   "outputs": [],
   "source": [
    "#Answer\n"
   ]
  },
  {
   "cell_type": "markdown",
   "metadata": {},
   "source": [
    "### 3. Try updating the API_14 by splitingthe API_14 before and after the 12 value."
   ]
  },
  {
   "cell_type": "code",
   "execution_count": 19,
   "metadata": {},
   "outputs": [
    {
     "name": "stdout",
     "output_type": "stream",
     "text": [
      "new_Name:\t011345\n"
     ]
    }
   ],
   "source": [
    "#example\n",
    "Name = '012345'\n",
    "new_Name = Name[:2] + '1' + Name[3:]\n",
    "\n",
    "print('new_Name:\\t' + new_Name)"
   ]
  },
  {
   "cell_type": "code",
   "execution_count": 20,
   "metadata": {},
   "outputs": [],
   "source": [
    "#Answer\n"
   ]
  },
  {
   "cell_type": "markdown",
   "metadata": {},
   "source": [
    "###  4. FYI. We can also change the API_12 directly by first turning the string to a list and replace the 12th number then joining the list back to one string."
   ]
  },
  {
   "cell_type": "code",
   "execution_count": 21,
   "metadata": {},
   "outputs": [
    {
     "name": "stdout",
     "output_type": "stream",
     "text": [
      "org_API_14:\t04030565740000\n",
      "new_API_14:\t04030565740100\n"
     ]
    }
   ],
   "source": [
    "#Answer\n",
    "s = list(API_14)\n",
    "s[11] = '1'\n",
    "new_API_14 = ''.join(s)\n",
    "\n",
    "print('org_API_14:\\t' + API_14)\n",
    "print('new_API_14:\\t' + new_API_14)"
   ]
  }
 ],
 "metadata": {
  "kernelspec": {
   "display_name": "Python 3",
   "language": "python",
   "name": "python3"
  },
  "language_info": {
   "codemirror_mode": {
    "name": "ipython",
    "version": 3
   },
   "file_extension": ".py",
   "mimetype": "text/x-python",
   "name": "python",
   "nbconvert_exporter": "python",
   "pygments_lexer": "ipython3",
   "version": "3.7.0"
  }
 },
 "nbformat": 4,
 "nbformat_minor": 2
}
