{
 "cells": [
  {
   "cell_type": "markdown",
   "metadata": {},
   "source": [
    "# Creating and working with collections of data"
   ]
  },
  {
   "cell_type": "markdown",
   "metadata": {},
   "source": [
    "### Tuples"
   ]
  },
  {
   "cell_type": "markdown",
   "metadata": {},
   "source": [
    "Tuples are a type of **collection** declared using parenthesis, collections are a group of variables/data. There are multple ways to collect variables together in python and we will go through some of the basic ones here. Tuple values can be accessed via an index integer. "
   ]
  },
  {
   "cell_type": "code",
   "execution_count": 1,
   "metadata": {},
   "outputs": [
    {
     "name": "stdout",
     "output_type": "stream",
     "text": [
      "('Hi!', 'I work', 'at', 'CRC!')\n",
      "Hi!\n",
      "<class 'tuple'>\n"
     ]
    }
   ],
   "source": [
    "a_tuple_of_strings = ('Hi!', 'I work', 'at', 'CRC!')\n",
    "print(a_tuple_of_strings)\n",
    "print(a_tuple_of_strings[0]) # remember indexes start at zero in python\n",
    "print(type(a_tuple_of_strings))"
   ]
  },
  {
   "cell_type": "markdown",
   "metadata": {},
   "source": [
    "Let's try to change which company we work at"
   ]
  },
  {
   "cell_type": "code",
   "execution_count": 2,
   "metadata": {},
   "outputs": [
    {
     "ename": "TypeError",
     "evalue": "'tuple' object does not support item assignment",
     "output_type": "error",
     "traceback": [
      "\u001b[1;31m---------------------------------------------------------------------------\u001b[0m",
      "\u001b[1;31mTypeError\u001b[0m                                 Traceback (most recent call last)",
      "\u001b[1;32m<ipython-input-2-ac949cb1e48a>\u001b[0m in \u001b[0;36m<module>\u001b[1;34m()\u001b[0m\n\u001b[1;32m----> 1\u001b[1;33m \u001b[0ma_tuple_of_strings\u001b[0m\u001b[1;33m[\u001b[0m\u001b[1;36m3\u001b[0m\u001b[1;33m]\u001b[0m \u001b[1;33m=\u001b[0m \u001b[1;34m'Chevron'\u001b[0m\u001b[1;33m\u001b[0m\u001b[0m\n\u001b[0m",
      "\u001b[1;31mTypeError\u001b[0m: 'tuple' object does not support item assignment"
     ]
    }
   ],
   "source": [
    "a_tuple_of_strings[3] = 'Chevron'"
   ]
  },
  {
   "cell_type": "markdown",
   "metadata": {},
   "source": [
    "What happened? Maybe we can't escape that easy... (obligatory **MUHAHAHAHA!** here...)"
   ]
  },
  {
   "cell_type": "markdown",
   "metadata": {},
   "source": [
    "Tuples can store more that just strings, try creating a tuple that stores both numbers and strings below, print out something from the tuple"
   ]
  },
  {
   "cell_type": "code",
   "execution_count": 9,
   "metadata": {},
   "outputs": [
    {
     "name": "stdout",
     "output_type": "stream",
     "text": [
      "((1, 'Yes', 42, 27.382073, 'This is a sentence'), 2, 'No', 24, 370283.72, 'Fragment')\n",
      "<class 'tuple'>\n"
     ]
    }
   ],
   "source": [
    "myTuple = (1, 'Yes', 42, 27.382073, 'This is a sentence')\n",
    "myTuple2 = (myTuple, 2, 'No', 24, 370283.72, 'Fragment')\n",
    "print(myTuple2)\n",
    "print(type(myTuple2))"
   ]
  },
  {
   "cell_type": "markdown",
   "metadata": {},
   "source": [
    "### Lists"
   ]
  },
  {
   "cell_type": "markdown",
   "metadata": {},
   "source": [
    "Lists are another type of collection that are declared with square brackets []. Let's make one."
   ]
  },
  {
   "cell_type": "code",
   "execution_count": 21,
   "metadata": {},
   "outputs": [],
   "source": [
    "my_favorite_things = ['computers', 'cute babies', 'ice cream', 'the weather outside right now', 'kittens', 'puppies', 7]"
   ]
  },
  {
   "cell_type": "markdown",
   "metadata": {},
   "source": [
    "Someone asks you to list some of your favorite things, you search the list above in your brain"
   ]
  },
  {
   "cell_type": "code",
   "execution_count": 22,
   "metadata": {},
   "outputs": [
    {
     "name": "stdout",
     "output_type": "stream",
     "text": [
      "I really like kittens. Aren't they cute!\n"
     ]
    }
   ],
   "source": [
    "# They seem like an animal person so you say:\n",
    "print(\"I really like {}. Aren't they cute!\".format(my_favorite_things[4]))"
   ]
  },
  {
   "cell_type": "markdown",
   "metadata": {},
   "source": [
    "It turns out they are allergic to cats, they ask you what else you like."
   ]
  },
  {
   "cell_type": "code",
   "execution_count": 23,
   "metadata": {},
   "outputs": [
    {
     "name": "stdout",
     "output_type": "stream",
     "text": [
      "I really like ['computers', 'cute babies', 'ice cream']\n"
     ]
    }
   ],
   "source": [
    "# Lets try listing off a few things this time\n",
    "print('I really like {}'.format(my_favorite_things[:3]))"
   ]
  },
  {
   "cell_type": "markdown",
   "metadata": {},
   "source": [
    "Notice the ':' in the index for our list of favorite things? In python this is called **slicing** a collection."
   ]
  },
  {
   "cell_type": "code",
   "execution_count": 24,
   "metadata": {},
   "outputs": [
    {
     "name": "stdout",
     "output_type": "stream",
     "text": [
      "['cute babies', 'ice cream']\n",
      "['the weather outside right now', 'kittens']\n",
      "[7]\n"
     ]
    }
   ],
   "source": [
    "# Let try slicing our list of favorite things other ways, the above example was a to index slice\n",
    "print(my_favorite_things[1:3]) # we can slice various ranges\n",
    "print(my_favorite_things[3:5])\n",
    "print(my_favorite_things[6:]) # this is a slice from an index"
   ]
  },
  {
   "cell_type": "markdown",
   "metadata": {},
   "source": [
    "You can also slice using negative numbers if you want."
   ]
  },
  {
   "cell_type": "code",
   "execution_count": 25,
   "metadata": {},
   "outputs": [
    {
     "name": "stdout",
     "output_type": "stream",
     "text": [
      "['computers', 'cute babies', 'ice cream', 'the weather outside right now']\n",
      "['kittens', 'puppies', 7]\n"
     ]
    }
   ],
   "source": [
    "print(my_favorite_things[:-3]) # we sliced off the last 3 entries\n",
    "print(my_favorite_things[-3:]) # we sliced off all but the last 3 entries"
   ]
  },
  {
   "cell_type": "markdown",
   "metadata": {},
   "source": [
    "Try to slice the list to include cute_babies and ice cream only using at least two different ways"
   ]
  },
  {
   "cell_type": "markdown",
   "metadata": {},
   "source": [
    "Ok so that is slicing, now your baby starts crying and continues to do so for an hour... You will always love your baby but it isn't among your favorite things at the moment... Let's update our list."
   ]
  },
  {
   "cell_type": "code",
   "execution_count": 26,
   "metadata": {},
   "outputs": [
    {
     "name": "stdout",
     "output_type": "stream",
     "text": [
      "['computers', 'cute babies', 'ice cream', 'the weather outside right now', 'kittens', 'puppies', 7]\n",
      "['computers', 'ice cream', 'the weather outside right now', 'kittens', 'puppies', 7]\n"
     ]
    }
   ],
   "source": [
    "# the simplest way to remove cute babies from the list is the .remove() command\n",
    "print(my_favorite_things)\n",
    "my_favorite_things.remove('cute babies')\n",
    "print(my_favorite_things)"
   ]
  },
  {
   "cell_type": "markdown",
   "metadata": {},
   "source": [
    "The baby stops crying and is restored to his/her rightful place in your mental list of favorite things. "
   ]
  },
  {
   "cell_type": "code",
   "execution_count": 27,
   "metadata": {},
   "outputs": [
    {
     "name": "stdout",
     "output_type": "stream",
     "text": [
      "['computers', 'ice cream', 'the weather outside right now', 'kittens', 'puppies', 7]\n",
      "['computers', 'ice cream', 'the weather outside right now', 'kittens', 'puppies', 7, 'cute babies']\n"
     ]
    }
   ],
   "source": [
    "# we can add things to a list using .append()\n",
    "print(my_favorite_things)\n",
    "my_favorite_things.append('cute babies')\n",
    "print(my_favorite_things)"
   ]
  },
  {
   "cell_type": "markdown",
   "metadata": {},
   "source": [
    "The baby once again wails their little heart out for all its worth, this time a new favorite thing needs to replace cute babies, peace and quiet..."
   ]
  },
  {
   "cell_type": "code",
   "execution_count": 28,
   "metadata": {},
   "outputs": [
    {
     "name": "stdout",
     "output_type": "stream",
     "text": [
      "['computers', 'ice cream', 'the weather outside right now', 'kittens', 'puppies', 7, 'cute babies']\n",
      "['computers', 'ice cream', 'the weather outside right now', 'kittens', 'puppies', 7, 'peace and quiet']\n"
     ]
    }
   ],
   "source": [
    "print(my_favorite_things)\n",
    "my_favorite_things[6] = 'peace and quiet'\n",
    "print(my_favorite_things)"
   ]
  },
  {
   "cell_type": "markdown",
   "metadata": {},
   "source": [
    "Notice how this is different than Tuples, when we tried to replace CRC with Chevron we couldn't. In programmer-speak this is a difference in **mutability**. Tuples are immutable and can't be changed once they are defined. Lists are mutable and can be changed dyanamically at any time."
   ]
  },
  {
   "cell_type": "markdown",
   "metadata": {},
   "source": [
    "We can also remove things from our list of favorite things using the 'del' command. The baby once again stops crying and can be added to the list."
   ]
  },
  {
   "cell_type": "code",
   "execution_count": 29,
   "metadata": {},
   "outputs": [
    {
     "name": "stdout",
     "output_type": "stream",
     "text": [
      "['computers', 'ice cream', 'the weather outside right now', 'kittens', 'puppies', 7, 'peace and quiet']\n",
      "['computers', 'ice cream', 'the weather outside right now', 'kittens', 'puppies', 'peace and quiet', 'cute babies']\n"
     ]
    }
   ],
   "source": [
    "print(my_favorite_things)\n",
    "del my_favorite_things[5]\n",
    "my_favorite_things.append('cute babies')\n",
    "print(my_favorite_things)"
   ]
  },
  {
   "cell_type": "markdown",
   "metadata": {},
   "source": [
    "After all that screaming, peace and quiet stays on the list, but babies can have your favorite number's spot."
   ]
  },
  {
   "cell_type": "markdown",
   "metadata": {},
   "source": [
    "Change the list of your favorite things to reflect **your** favorite things using what you learned above."
   ]
  },
  {
   "cell_type": "code",
   "execution_count": 30,
   "metadata": {},
   "outputs": [
    {
     "name": "stdout",
     "output_type": "stream",
     "text": [
      "['test0', 'test1', 'test2', 'test3', 'test4', 'test5', 'test6', 'test7']\n"
     ]
    }
   ],
   "source": [
    "my_favorite_things[0:8] = ['test0', 'test1', 'test2', 'test3', 'test4', 'test5', 'test6', 'test7']\n",
    "print(my_favorite_things)"
   ]
  },
  {
   "cell_type": "markdown",
   "metadata": {},
   "source": [
    "### Dictionaries"
   ]
  },
  {
   "cell_type": "markdown",
   "metadata": {},
   "source": [
    "Dictionaries are an important type of collection where data is retrieved and added to the collection via 'keys' instead of indexes. In python these collections are known as dictionaries, but in some programming languages they are known as 'hash maps' or just maps. Dictionaries work by taking the key and converting to a unique 'hash' which is a shortcut in memory to the location where a piece of data is stored. When you are looking up a piece of data this saves a tremendous amount of time in a large collection of data because you can retrieve data near instantly instead of having to search through the data piece by piece until you locate it."
   ]
  },
  {
   "cell_type": "code",
   "execution_count": 31,
   "metadata": {},
   "outputs": [
    {
     "name": "stdout",
     "output_type": "stream",
     "text": [
      "Todd Stevens\n"
     ]
    }
   ],
   "source": [
    "# You can define dictionaried in code like so with: {key : value,}\n",
    "CRC_Roles = {'CEO' : 'Todd Stevens',\n",
    "             'EVP Development': 'Shawn Kerns',\n",
    "             'EVP Exploration Type_Stuff': 'Darren Williams',\n",
    "             'Lowly Data Scientist' : 'Nathan Jones',}\n",
    "# Values can be retrieved via the key\n",
    "print(CRC_Roles['CEO'])"
   ]
  },
  {
   "cell_type": "markdown",
   "metadata": {},
   "source": [
    "You can assign new keys"
   ]
  },
  {
   "cell_type": "code",
   "execution_count": 32,
   "metadata": {},
   "outputs": [
    {
     "name": "stdout",
     "output_type": "stream",
     "text": [
      "{'CEO': 'Todd Stevens', 'EVP Development': 'Shawn Kerns', 'EVP Exploration Type_Stuff': 'Darren Williams', 'Lowly Data Scientist': 'Nathan Jones', 'Emperor-King of BDA': 'Mike Moustakis'}\n"
     ]
    }
   ],
   "source": [
    "CRC_Roles['Emperor-King of BDA'] = 'Mike Moustakis'\n",
    "print(CRC_Roles)"
   ]
  },
  {
   "cell_type": "markdown",
   "metadata": {},
   "source": [
    "Each key can only be assigned to one piece of data."
   ]
  },
  {
   "cell_type": "code",
   "execution_count": 33,
   "metadata": {},
   "outputs": [
    {
     "name": "stdout",
     "output_type": "stream",
     "text": [
      "Nathan Jones\n",
      "Eric Robinson\n"
     ]
    }
   ],
   "source": [
    "print(CRC_Roles['Lowly Data Scientist'])\n",
    "CRC_Roles['Lowly Data Scientist'] = 'Eric Robinson'\n",
    "print(CRC_Roles['Lowly Data Scientist'])"
   ]
  },
  {
   "cell_type": "markdown",
   "metadata": {},
   "source": [
    "**BUT** that piece of data can be a list..."
   ]
  },
  {
   "cell_type": "code",
   "execution_count": 34,
   "metadata": {},
   "outputs": [
    {
     "name": "stdout",
     "output_type": "stream",
     "text": [
      "Eric Robinson\n",
      "['Nathan Jones', 'Eric Robinson']\n"
     ]
    }
   ],
   "source": [
    "print(CRC_Roles['Lowly Data Scientist'])\n",
    "CRC_Roles['Lowly Data Scientist'] = ['Nathan Jones' , 'Eric Robinson']\n",
    "print(CRC_Roles['Lowly Data Scientist'])"
   ]
  },
  {
   "cell_type": "markdown",
   "metadata": {},
   "source": [
    "You can pull values out of a list in a dictionary just as if it were a list"
   ]
  },
  {
   "cell_type": "code",
   "execution_count": 35,
   "metadata": {},
   "outputs": [
    {
     "name": "stdout",
     "output_type": "stream",
     "text": [
      "Nathan Jones\n",
      "Eric Robinson\n"
     ]
    }
   ],
   "source": [
    "print(CRC_Roles['Lowly Data Scientist'][0])\n",
    "print(CRC_Roles['Lowly Data Scientist'][1])"
   ]
  },
  {
   "cell_type": "markdown",
   "metadata": {},
   "source": [
    "You can extract the keys available in the dictionary the .keys() function"
   ]
  },
  {
   "cell_type": "code",
   "execution_count": 37,
   "metadata": {},
   "outputs": [
    {
     "name": "stdout",
     "output_type": "stream",
     "text": [
      "dict_keys(['CEO', 'EVP Development', 'EVP Exploration Type_Stuff', 'Lowly Data Scientist', 'Emperor-King of BDA'])\n"
     ]
    }
   ],
   "source": [
    "print(CRC_Roles.keys())\n"
   ]
  },
  {
   "cell_type": "markdown",
   "metadata": {},
   "source": [
    "You can make the keys a list using list()"
   ]
  },
  {
   "cell_type": "code",
   "execution_count": 38,
   "metadata": {},
   "outputs": [
    {
     "name": "stdout",
     "output_type": "stream",
     "text": [
      "['CEO', 'EVP Development', 'EVP Exploration Type_Stuff', 'Lowly Data Scientist', 'Emperor-King of BDA']\n",
      "CEO\n"
     ]
    }
   ],
   "source": [
    "print(list(CRC_Roles.keys()))\n",
    "print(list(CRC_Roles.keys())[0]) # You can chain the call to the list index with square brackets"
   ]
  },
  {
   "cell_type": "markdown",
   "metadata": {},
   "source": [
    "You can do the same for the values in the dictionary."
   ]
  },
  {
   "cell_type": "code",
   "execution_count": 39,
   "metadata": {},
   "outputs": [
    {
     "name": "stdout",
     "output_type": "stream",
     "text": [
      "['Todd Stevens', 'Shawn Kerns', 'Darren Williams', ['Nathan Jones', 'Eric Robinson'], 'Mike Moustakis']\n"
     ]
    }
   ],
   "source": [
    "print(list(CRC_Roles.values())) # Note the list with in a list below"
   ]
  },
  {
   "cell_type": "markdown",
   "metadata": {},
   "source": [
    "Add a few members of your team to the dictionary, print out three people's names with their role in the company"
   ]
  },
  {
   "cell_type": "code",
   "execution_count": 47,
   "metadata": {},
   "outputs": [
    {
     "name": "stdout",
     "output_type": "stream",
     "text": [
      "{'CEO': 'Todd Stevens', 'EVP Development': 'Shawn Kerns', 'EVP Exploration Type_Stuff': 'Darren Williams', 'Lowly Data Scientist': ['Nathan Jones', 'Eric Robinson'], 'Emperor-King of BDA': 'Mike Moustakis', 'Data Engineer': ['Kevin Torbert', 'Kevin Duncan', 'Ken Lawerence']}\n",
      "['Kevin Torbert', 'Kevin Duncan', 'Ken Lawerence']\n",
      "['Kevin Duncan', 'Ken Lawerence']\n"
     ]
    }
   ],
   "source": [
    "CRC_Roles['Data Engineer'] = ['Kevin Torbert', 'Kevin Duncan', 'Ken Lawerence']\n",
    "print(CRC_Roles)\n",
    "print(CRC_Roles['Data Engineer'])\n",
    "print(CRC_Roles['Data Engineer'][1:3])"
   ]
  },
  {
   "cell_type": "markdown",
   "metadata": {},
   "source": [
    "### Sets"
   ]
  },
  {
   "cell_type": "markdown",
   "metadata": {},
   "source": [
    "Python sets are another useful type of data collection. They ensure that unique data values only appear once in the collection. They also allow for fast set operations (intersections, unions, etc). They can be created with {value} or from a collection with the set() function."
   ]
  },
  {
   "cell_type": "code",
   "execution_count": 48,
   "metadata": {},
   "outputs": [
    {
     "name": "stdout",
     "output_type": "stream",
     "text": [
      "{'PERF', \"perf'd\", 'Perf', \"PERF'D\", \"lots 'O holes\", 'perf', 'perforated', 'PERFORATED'}\n",
      "<class 'set'>\n"
     ]
    }
   ],
   "source": [
    "# Sets can be declared with curly braces\n",
    "ways_to_name_perfs = {'perf', 'PERF', 'perforated', 'PERFORATED', \"perf'd\", \"PERF'D\", 'Perf', \"lots 'O holes\"}\n",
    "print(ways_to_name_perfs)\n",
    "print(type(ways_to_name_perfs))"
   ]
  },
  {
   "cell_type": "code",
   "execution_count": 49,
   "metadata": {},
   "outputs": [
    {
     "name": "stdout",
     "output_type": "stream",
     "text": [
      "<class 'set'>\n",
      "Note that the duplicate perf is gone\n",
      "{'PERF', 'perf', 'slotted', \"PERF'D\"}\n"
     ]
    }
   ],
   "source": [
    "# This dataset comes is a list\n",
    "ways_to_name_perfs_dataset2 = ['perf', 'perf', 'PERF', \"PERF'D\", 'slotted'] \n",
    "#Let convert it to a set\n",
    "ways_to_name_perfs_dataset2 = set(ways_to_name_perfs_dataset2)\n",
    "print(type(ways_to_name_perfs_dataset2))\n",
    "print('Note that the duplicate perf is gone')\n",
    "print(ways_to_name_perfs_dataset2)"
   ]
  },
  {
   "cell_type": "markdown",
   "metadata": {},
   "source": [
    "Let's see what the two sets have in common"
   ]
  },
  {
   "cell_type": "code",
   "execution_count": 50,
   "metadata": {},
   "outputs": [
    {
     "name": "stdout",
     "output_type": "stream",
     "text": [
      "{'PERF', 'perf', \"PERF'D\"}\n",
      "{'PERF', 'perf', \"PERF'D\"}\n"
     ]
    }
   ],
   "source": [
    "same_in_both = ways_to_name_perfs_dataset2.intersection(ways_to_name_perfs)\n",
    "print(same_in_both)\n",
    "# You can also do:\n",
    "print(ways_to_name_perfs_dataset2 & ways_to_name_perfs)"
   ]
  },
  {
   "cell_type": "markdown",
   "metadata": {},
   "source": [
    "Let's see what both sets together looks like"
   ]
  },
  {
   "cell_type": "code",
   "execution_count": 51,
   "metadata": {},
   "outputs": [
    {
     "name": "stdout",
     "output_type": "stream",
     "text": [
      "{'PERF', \"perf'd\", 'Perf', \"PERF'D\", \"lots 'O holes\", 'perf', 'perforated', 'slotted', 'PERFORATED'}\n",
      "{'PERF', \"perf'd\", 'Perf', \"PERF'D\", \"lots 'O holes\", 'perf', 'perforated', 'slotted', 'PERFORATED'}\n"
     ]
    }
   ],
   "source": [
    "all_combined = ways_to_name_perfs_dataset2.union(ways_to_name_perfs)\n",
    "print(all_combined)\n",
    "# You can also do:\n",
    "print(ways_to_name_perfs_dataset2 | ways_to_name_perfs)"
   ]
  },
  {
   "cell_type": "markdown",
   "metadata": {},
   "source": [
    "Things that are in ways_to_name_perfs_dataset2 but not in ways_to_name_perfs"
   ]
  },
  {
   "cell_type": "code",
   "execution_count": 52,
   "metadata": {},
   "outputs": [
    {
     "name": "stdout",
     "output_type": "stream",
     "text": [
      "{'slotted'}\n",
      "{'slotted'}\n"
     ]
    }
   ],
   "source": [
    "difference = ways_to_name_perfs_dataset2.difference(ways_to_name_perfs)\n",
    "print(difference)\n",
    "# You can also do:\n",
    "print(ways_to_name_perfs_dataset2 - ways_to_name_perfs)"
   ]
  },
  {
   "cell_type": "markdown",
   "metadata": {},
   "source": [
    "Full list of set operations here: https://docs.python.org/2/library/sets.html\n",
    "        "
   ]
  },
  {
   "cell_type": "markdown",
   "metadata": {},
   "source": [
    "After making a set, you can convert it back to a list using list()"
   ]
  },
  {
   "cell_type": "code",
   "execution_count": 53,
   "metadata": {},
   "outputs": [
    {
     "name": "stdout",
     "output_type": "stream",
     "text": [
      "['PERF', \"perf'd\", 'Perf', \"PERF'D\", \"lots 'O holes\", 'perf', 'perforated', 'slotted', 'PERFORATED']\n"
     ]
    }
   ],
   "source": [
    "all_ways_to_name_perfs = list(all_combined)\n",
    "print(all_ways_to_name_perfs)"
   ]
  },
  {
   "cell_type": "markdown",
   "metadata": {},
   "source": [
    "Try making a set of all the ways you have seen API numbers names in CRC's data tables, afterwards copy somebody else's list and make a list of the names you had in common and the ones where your list had something that their's didn't."
   ]
  },
  {
   "cell_type": "code",
   "execution_count": 56,
   "metadata": {},
   "outputs": [
    {
     "name": "stdout",
     "output_type": "stream",
     "text": [
      "{'02', '7273839'}\n",
      "{'02', '7273839'}\n",
      "{'02', '7273839'}\n",
      "{'02', '7273839'}\n",
      "{'9', '06', '7273839', '03', '05', '02', '01', '8'}\n",
      "{'9', '06', '7273839', '03', '05', '02', '01', '8'}\n",
      "{'9', '05', '06', '03', '7273839', '02', '01', '8'}\n",
      "{'9', '05', '06', '03', '7273839', '02', '01', '8'}\n",
      "{'06', '9', '05'}\n",
      "{'06', '9', '05'}\n",
      "{'01', '8', '03'}\n",
      "{'01', '8', '03'}\n"
     ]
    }
   ],
   "source": [
    "my_set_numbers1 = {'01','02','03','7273839','8'}\n",
    "my_set_numbers2 = {'02','05','7273839','06','9'}\n",
    "\n",
    "print(my_set_numbers2.intersection(my_set_numbers1))\n",
    "print(my_set_numbers2 & my_set_numbers1)\n",
    "print(my_set_numbers1.intersection(my_set_numbers2))\n",
    "print(my_set_numbers1 & my_set_numbers2)\n",
    "\n",
    "print(my_set_numbers2.union(my_set_numbers1))\n",
    "print(my_set_numbers2 | my_set_numbers1)\n",
    "print(my_set_numbers1.union(my_set_numbers2))\n",
    "print(my_set_numbers1 | my_set_numbers2)\n",
    "\n",
    "print(my_set_numbers2.difference(my_set_numbers1))\n",
    "print(my_set_numbers2 - my_set_numbers1)\n",
    "print(my_set_numbers1.difference(my_set_numbers2))\n",
    "print(my_set_numbers1 - my_set_numbers2)\n"
   ]
  },
  {
   "cell_type": "code",
   "execution_count": null,
   "metadata": {},
   "outputs": [],
   "source": []
  }
 ],
 "metadata": {
  "kernelspec": {
   "display_name": "Python 3",
   "language": "python",
   "name": "python3"
  },
  "language_info": {
   "codemirror_mode": {
    "name": "ipython",
    "version": 3
   },
   "file_extension": ".py",
   "mimetype": "text/x-python",
   "name": "python",
   "nbconvert_exporter": "python",
   "pygments_lexer": "ipython3",
   "version": "3.7.0"
  }
 },
 "nbformat": 4,
 "nbformat_minor": 2
}
